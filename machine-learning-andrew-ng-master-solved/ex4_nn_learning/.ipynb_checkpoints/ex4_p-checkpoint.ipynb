{
 "cells": [
  {
   "cell_type": "code",
   "execution_count": 1,
   "metadata": {
    "collapsed": true
   },
   "outputs": [],
   "source": [
    "from __future__ import division\n",
    "\n",
    "import scipy as sp\n",
    "import scipy.io\n",
    "from scipy.optimize import minimize\n",
    "import matplotlib\n",
    "import matplotlib.pyplot as plt\n",
    "import matplotlib.gridspec as gridspec\n",
    "#from ipywidgets import interact, interactive, fixed\n",
    "#import ipywidgets as widgets\n",
    "#import bqplot as bq\n",
    "#from IPython.display import display\n",
    "%matplotlib inline  "
   ]
  },
  {
   "cell_type": "code",
   "execution_count": 2,
   "metadata": {
    "collapsed": false
   },
   "outputs": [],
   "source": [
    "data_dict = scipy.io.loadmat('ex4/ex4data1.mat')"
   ]
  },
  {
   "cell_type": "code",
   "execution_count": 210,
   "metadata": {
    "collapsed": false
   },
   "outputs": [],
   "source": [
    "X = data_dict['X'].T\n",
    "y = data_dict['y'].ravel()\n",
    "\n",
    "N = X.shape[0] # = 400 pixels per sample\n",
    "M = X.shape[1] # = 5000 samples\n",
    "L = 26 # number of nodes in the hidden layer (including bias node)\n",
    "K = len(sp.unique(y)) # = 10 for this example."
   ]
  },
  {
   "cell_type": "code",
   "execution_count": 242,
   "metadata": {
    "collapsed": false
   },
   "outputs": [],
   "source": [
    "X = sp.vstack((sp.ones(M), X)) # creating 401 features (400 pixel value plus 1 intercept)"
   ]
  },
  {
   "cell_type": "code",
   "execution_count": 243,
   "metadata": {
    "collapsed": false
   },
   "outputs": [],
   "source": [
    "Y = sp.zeros((M, K), dtype='uint8')\n",
    "\n",
    "for i, row in enumerate(Y):\n",
    "    Y[i, y[i] - 1] = 1"
   ]
  },
  {
   "cell_type": "code",
   "execution_count": 6,
   "metadata": {
    "collapsed": true
   },
   "outputs": [],
   "source": [
    "sigmoid = lambda x: 1 / (1 + sp.exp(-x))"
   ]
  },
  {
   "cell_type": "code",
   "execution_count": 7,
   "metadata": {
    "collapsed": false
   },
   "outputs": [],
   "source": [
    "weights_dict = scipy.io.loadmat('ex4/ex4weights.mat')"
   ]
  },
  {
   "cell_type": "code",
   "execution_count": 8,
   "metadata": {
    "collapsed": true
   },
   "outputs": [],
   "source": [
    "theta_1 = weights_dict['Theta1']\n",
    "theta_2 = weights_dict['Theta2']"
   ]
  },
  {
   "cell_type": "markdown",
   "metadata": {},
   "source": [
    "# 1 Neural networks"
   ]
  },
  {
   "cell_type": "markdown",
   "metadata": {},
   "source": [
    "## 1.1 Visualizing the data"
   ]
  },
  {
   "cell_type": "code",
   "execution_count": null,
   "metadata": {
    "collapsed": true
   },
   "outputs": [],
   "source": [
    "dim = 10\n",
    "\n",
    "sample = X[1:].T[sp.random.randint(M, size=dim * dim)]"
   ]
  },
  {
   "cell_type": "code",
   "execution_count": null,
   "metadata": {
    "collapsed": true
   },
   "outputs": [],
   "source": [
    "fig = plt.figure(figsize=(5, 5))\n",
    "\n",
    "gs = gridspec.GridSpec(dim, dim)\n",
    "gs.update(bottom=0.01, top=0.99, left=0.01, right=0.99, \n",
    "          hspace=0.05, wspace=0.05)\n",
    "\n",
    "k = 0\n",
    "for i in xrange(dim):\n",
    "    for j in xrange(dim):\n",
    "        ax = plt.subplot(gs[i, j])\n",
    "        ax.axis('off')\n",
    "        ax.imshow(sample[k].reshape(int(sp.sqrt(N)), int(sp.sqrt(N))).T,\n",
    "                 cmap=plt.get_cmap('Greys'), #vmin=-1, vmax=1,\n",
    "                 interpolation = 'nearest')#, alpha = 1.0)\n",
    "        k += 1\n",
    "        \n",
    "plt.savefig('ex4_ipynb_img/fig1.jpg', dpi=300)\n",
    "plt.show() # the image takes ~10sec on my laptop to render"
   ]
  },
  {
   "cell_type": "markdown",
   "metadata": {},
   "source": [
    "## 1.3 Feedforward and cost function"
   ]
  },
  {
   "cell_type": "code",
   "execution_count": 64,
   "metadata": {
    "collapsed": false
   },
   "outputs": [],
   "source": [
    "def nn_cost_function(theta_1, theta_2, X, Y):\n",
    "    a_2 = sigmoid(theta_1.dot(X))\n",
    "    a_2_p = sp.vstack((sp.ones(M), a_2))\n",
    "    a_3 = sigmoid(theta_2.dot(a_2_p))\n",
    "    cost = 1 / M * sp.trace(- Y.dot(sp.log(a_3)) - (1 - Y).dot(sp.log(1 - a_3)))\n",
    "    return cost"
   ]
  },
  {
   "cell_type": "code",
   "execution_count": 94,
   "metadata": {
    "collapsed": false
   },
   "outputs": [
    {
     "data": {
      "text/plain": [
       "0.28762916516131892"
      ]
     },
     "execution_count": 94,
     "metadata": {},
     "output_type": "execute_result"
    }
   ],
   "source": [
    "nn_cost_function(theta_1, theta_2, X, Y) "
   ]
  },
  {
   "cell_type": "code",
   "execution_count": 89,
   "metadata": {
    "collapsed": true
   },
   "outputs": [],
   "source": [
    "def alt_nn_cost_function(theta_1, theta_2, X, Y):\n",
    "    cost = 0\n",
    "    for x, y in zip(X.T, Y):\n",
    "        a_2 = sigmoid(theta_1.dot(x))\n",
    "        a_2_p = sp.concatenate(([1], a_2))\n",
    "        a_3 = sigmoid(theta_2.dot(a_2_p))\n",
    "        cost += - y.dot(sp.log(a_3)) - (1 - y).dot(sp.log(1 - a_3))\n",
    "    return cost / M"
   ]
  },
  {
   "cell_type": "code",
   "execution_count": 93,
   "metadata": {
    "collapsed": false
   },
   "outputs": [
    {
     "data": {
      "text/plain": [
       "0.28762916516131876"
      ]
     },
     "execution_count": 93,
     "metadata": {},
     "output_type": "execute_result"
    }
   ],
   "source": [
    "alt_nn_cost_function(theta_1, theta_2, X, Y) "
   ]
  },
  {
   "cell_type": "code",
   "execution_count": 95,
   "metadata": {
    "collapsed": false
   },
   "outputs": [
    {
     "name": "stdout",
     "output_type": "stream",
     "text": [
      "1 loop, best of 3: 427 ms per loop\n"
     ]
    }
   ],
   "source": [
    "timeit nn_cost_function(theta_1, theta_2, X, Y) "
   ]
  },
  {
   "cell_type": "code",
   "execution_count": 96,
   "metadata": {
    "collapsed": false
   },
   "outputs": [
    {
     "name": "stdout",
     "output_type": "stream",
     "text": [
      "1 loop, best of 3: 425 ms per loop\n"
     ]
    }
   ],
   "source": [
    "timeit alt_nn_cost_function(theta_1, theta_2, X, Y) "
   ]
  },
  {
   "cell_type": "markdown",
   "metadata": {},
   "source": [
    "## 1.4 Regularized cost function"
   ]
  },
  {
   "cell_type": "code",
   "execution_count": 97,
   "metadata": {
    "collapsed": false
   },
   "outputs": [],
   "source": [
    "def nn_cost_function_reg(theta_1, theta_2, X, Y, lam):\n",
    "    a_2 = sigmoid(theta_1.dot(X))\n",
    "    a_2_p = sp.vstack((sp.ones(M), a_2))\n",
    "    a_3 = sigmoid(theta_2.dot(a_2_p))\n",
    "    cost = 1 / M * sp.trace(- Y.dot(sp.log(a_3)) - (1 - Y).dot(sp.log(1 - a_3))) \\\n",
    "        + lam / 2 / M * (sp.sum(theta_1[:, 1:] * theta_1[:, 1:]) + sp.sum(theta_2[:, 1:] * theta_2[:, 1:]))\n",
    "    return cost"
   ]
  },
  {
   "cell_type": "code",
   "execution_count": 98,
   "metadata": {
    "collapsed": false
   },
   "outputs": [
    {
     "data": {
      "text/plain": [
       "0.38376985909092365"
      ]
     },
     "execution_count": 98,
     "metadata": {},
     "output_type": "execute_result"
    }
   ],
   "source": [
    "nn_cost_function_reg(theta_1, theta_2, X, Y, 1) "
   ]
  },
  {
   "cell_type": "markdown",
   "metadata": {},
   "source": [
    "# 2 Backpropagation"
   ]
  },
  {
   "cell_type": "markdown",
   "metadata": {},
   "source": [
    "## 2.1 Sigmoid gradient"
   ]
  },
  {
   "cell_type": "code",
   "execution_count": 56,
   "metadata": {
    "collapsed": true
   },
   "outputs": [],
   "source": [
    "sigmoid_gradient = lambda x: sigmoid(x) * (1 - sigmoid(x))"
   ]
  },
  {
   "cell_type": "markdown",
   "metadata": {},
   "source": [
    "## 2.2 Random initialization"
   ]
  },
  {
   "cell_type": "code",
   "execution_count": 110,
   "metadata": {
    "collapsed": true
   },
   "outputs": [],
   "source": [
    "eps_init = 0.12"
   ]
  },
  {
   "cell_type": "code",
   "execution_count": 111,
   "metadata": {
    "collapsed": false
   },
   "outputs": [],
   "source": [
    "theta_1_0 = sp.random.uniform(-eps_init, eps_init, theta_1.shape)\n",
    "theta_2_0 = sp.random.uniform(-eps_init, eps_init, theta_2.shape)"
   ]
  },
  {
   "cell_type": "markdown",
   "metadata": {},
   "source": [
    "## 2.3 Backpropagation"
   ]
  },
  {
   "cell_type": "code",
   "execution_count": 211,
   "metadata": {
    "collapsed": false
   },
   "outputs": [
    {
     "name": "stdout",
     "output_type": "stream",
     "text": [
      "(400, 5000)\n",
      "(5000, 10)\n",
      "(25, 401)\n",
      "(10, 26)\n"
     ]
    }
   ],
   "source": [
    "print X.shape\n",
    "print Y.shape\n",
    "print theta_1_0.shape\n",
    "print theta_2_0.shape"
   ]
  },
  {
   "cell_type": "code",
   "execution_count": 151,
   "metadata": {
    "collapsed": true
   },
   "outputs": [],
   "source": [
    "z_2 = theta_1_0.dot(X) # z_2.shape = (25, 5000)\n",
    "a_2 = sigmoid(z_2) # a_2.shape = (25, 5000)\n",
    "a_2_p = sp.vstack((sp.ones(M), a_2)) # a_2_p.shape = (26, 5000)\n",
    "z_3 = theta_2_0.dot(a_2_p) # z_3.shape = (10, 5000)\n",
    "a_3 = sigmoid(z_3) # a_3.shape = (10, 5000)"
   ]
  },
  {
   "cell_type": "code",
   "execution_count": 267,
   "metadata": {
    "collapsed": false
   },
   "outputs": [],
   "source": [
    "grad_theta_2 = 1 / M * (a_3 - Y.T).dot(a_2_p.T) # grad_theta_2.shape = (10, 25)"
   ]
  },
  {
   "cell_type": "code",
   "execution_count": 283,
   "metadata": {
    "collapsed": false
   },
   "outputs": [],
   "source": [
    "theta_delta = theta_2_0[:, 1:].T.dot(a_3 - Y.T)\n",
    "s_g_z_2 = sigmoid_gradient(z_2)\n",
    "grad_theta_1 = 1 / M * sp.array([[sp.sum(theta_delta[p] * s_g_z_2[p] * X[q]) for q in xrange(N+1)] for p in xrange(L-1)])"
   ]
  },
  {
   "cell_type": "markdown",
   "metadata": {},
   "source": [
    "## 2.4 Gradient checking"
   ]
  },
  {
   "cell_type": "code",
   "execution_count": 296,
   "metadata": {
    "collapsed": true
   },
   "outputs": [],
   "source": [
    "eps = 1e-4"
   ]
  },
  {
   "cell_type": "code",
   "execution_count": 297,
   "metadata": {
    "collapsed": false
   },
   "outputs": [],
   "source": [
    "cost_0 = nn_cost_function(theta_1_0, theta_2_0, X, Y)"
   ]
  },
  {
   "cell_type": "code",
   "execution_count": 298,
   "metadata": {
    "collapsed": false
   },
   "outputs": [],
   "source": [
    "def compute_numerical_grad(theta_1_0, theta_2_0, a, i, j):\n",
    "    if a == 1:\n",
    "        theta_1 = theta_1_0.copy()\n",
    "        theta_1_p = theta_1_0.copy()\n",
    "        theta_1[i, j] += eps\n",
    "        theta_1_p[i, j] -= eps\n",
    "        return (nn_cost_function(theta_1, theta_2_0, X, y) - cost_0) / eps\n",
    "    else:\n",
    "        theta_2 = theta_2_0.copy()\n",
    "        theta_2_p = theta_2_0.copy()\n",
    "        theta_2[i, j] += eps\n",
    "        theta_2_p[i, j] -= eps\n",
    "        return (nn_cost_function(theta_1_0, theta_2, X, y) - cost_0) / eps"
   ]
  },
  {
   "cell_type": "code",
   "execution_count": 299,
   "metadata": {
    "collapsed": false
   },
   "outputs": [
    {
     "name": "stdout",
     "output_type": "stream",
     "text": [
      "4.3873882305e-06\n",
      "0.244954548414\n"
     ]
    }
   ],
   "source": [
    "print compute_numerical_grad(theta_1_0, theta_2_0, 1, 8, 7)\n",
    "print compute_numerical_grad(theta_1_0, theta_2_0, 2, 8, 7)"
   ]
  },
  {
   "cell_type": "code",
   "execution_count": 300,
   "metadata": {
    "collapsed": false
   },
   "outputs": [
    {
     "name": "stdout",
     "output_type": "stream",
     "text": [
      "4.38736429694e-06\n",
      "0.244949453267\n"
     ]
    }
   ],
   "source": [
    "print grad_theta_1[8, 7]\n",
    "print grad_theta_2[8, 7]"
   ]
  },
  {
   "cell_type": "markdown",
   "metadata": {},
   "source": [
    "## 2.5 Regularized neural networks"
   ]
  },
  {
   "cell_type": "code",
   "execution_count": 318,
   "metadata": {
    "collapsed": false
   },
   "outputs": [],
   "source": [
    "def nn_cost_grad_reg(theta_1, theta_2, X, Y, lam):\n",
    "    z_2 = theta_1.dot(X)\n",
    "    a_2 = sigmoid(z_2)\n",
    "    a_2_p = sp.vstack((sp.ones(M), a_2))\n",
    "    a_3 = sigmoid(theta_2.dot(a_2_p))\n",
    "    \n",
    "    cost = 1 / M * sp.trace(- Y.dot(sp.log(a_3)) - (1 - Y).dot(sp.log(1 - a_3))) \\\n",
    "        + lam / 2 / M * (sp.sum(theta_1[:, 1:] * theta_1[:, 1:]) + sp.sum(theta_2[:, 1:] * theta_2[:, 1:]))\n",
    "    \n",
    "    grad_theta_2 = 1 / M * (a_3 - Y.T).dot(a_2_p.T) \\\n",
    "        + lam / M * sp.hstack((sp.zeros(K).reshape(-1,1), theta_2[:, 1:]))\n",
    "    \n",
    "    theta_delta = theta_2_0[:, 1:].T.dot(a_3 - Y.T)\n",
    "    s_g_z_2 = sigmoid_gradient(z_2)\n",
    "    grad_theta_1 = 1 / M * sp.array([[sp.sum(theta_delta[p] * s_g_z_2[p] * X[q]) \n",
    "                                      for q in xrange(N+1)] for p in xrange(L-1)]) \\\n",
    "        + lam / M * sp.hstack((sp.zeros(L-1).reshape(-1,1), theta_1[:, 1:]))\n",
    "                                     \n",
    "    return cost, grad_theta_2, grad_theta_1"
   ]
  },
  {
   "cell_type": "code",
   "execution_count": 319,
   "metadata": {
    "collapsed": false
   },
   "outputs": [
    {
     "name": "stdout",
     "output_type": "stream",
     "text": [
      "0.383769859091\n"
     ]
    }
   ],
   "source": [
    "cost, grad_theta_2, grad_theta_1 = nn_cost_grad_reg(theta_1, theta_2, X, Y, 1)\n",
    "print cost"
   ]
  },
  {
   "cell_type": "markdown",
   "metadata": {},
   "source": [
    "## 2.5 Regularized neural networks"
   ]
  },
  {
   "cell_type": "code",
   "execution_count": 335,
   "metadata": {
    "collapsed": false
   },
   "outputs": [],
   "source": [
    "lam = 1.\n",
    "thetas_0 = sp.concatenate((theta_1_0.flatten(), theta_2_0.flatten()))"
   ]
  },
  {
   "cell_type": "code",
   "execution_count": 327,
   "metadata": {
    "collapsed": true
   },
   "outputs": [],
   "source": [
    "def nn_cost_grad_reg_flat(thetas, X, Y, lam):\n",
    "    theta_1 = thetas[:(L - 1) * (N + 1)].reshape(L - 1, N + 1)\n",
    "    theta_2 = thetas[(L - 1) * (N + 1):].reshape(K, L)\n",
    "    \n",
    "    z_2 = theta_1.dot(X)\n",
    "    a_2 = sigmoid(z_2)\n",
    "    a_2_p = sp.vstack((sp.ones(M), a_2))\n",
    "    a_3 = sigmoid(theta_2.dot(a_2_p))\n",
    "    \n",
    "    cost = 1 / M * sp.trace(- Y.dot(sp.log(a_3)) - (1 - Y).dot(sp.log(1 - a_3))) \\\n",
    "        + lam / 2 / M * (sp.sum(theta_1[:, 1:] * theta_1[:, 1:]) + sp.sum(theta_2[:, 1:] * theta_2[:, 1:]))\n",
    "    \n",
    "    grad_theta_2 = 1 / M * (a_3 - Y.T).dot(a_2_p.T) \\\n",
    "        + lam / M * sp.hstack((sp.zeros(K).reshape(-1,1), theta_2[:, 1:]))\n",
    "    \n",
    "    theta_delta = theta_2_0[:, 1:].T.dot(a_3 - Y.T)\n",
    "    s_g_z_2 = sigmoid_gradient(z_2)\n",
    "    grad_theta_1 = 1 / M * sp.array([[sp.sum(theta_delta[p] * s_g_z_2[p] * X[q]) \n",
    "                                      for q in xrange(N+1)] for p in xrange(L-1)]) \\\n",
    "        + lam / M * sp.hstack((sp.zeros(L-1).reshape(-1,1), theta_1[:, 1:]))\n",
    "        \n",
    "    return cost, sp.concatenate((grad_theta_1.flatten(), grad_theta_2.flatten()))        "
   ]
  },
  {
   "cell_type": "code",
   "execution_count": null,
   "metadata": {
    "collapsed": false
   },
   "outputs": [],
   "source": [
    "xks = []\n",
    "def callback(xk):\n",
    "    xks.append(xk);\n",
    "    \n",
    "res = minimize(nn_cost_grad_reg_flat, thetas_0, \n",
    "               method = 'L-BFGS-B', args=(X, Y, lam), jac=True, callback=callback, options = {'maxiter': 100}) "
   ]
  },
  {
   "cell_type": "code",
   "execution_count": null,
   "metadata": {
    "collapsed": false
   },
   "outputs": [],
   "source": [
    "thetas = res['x']\n",
    "print thetas\n",
    "print nn_cost_grad_reg_flat(thetas_0, X, Y, lam)[0]\n",
    "print nn_cost_grad_reg_flat(xks[-2], X, Y, lam)[0]\n",
    "print nn_cost_grad_reg_flat(thetas, X, Y, lam)[0]"
   ]
  },
  {
   "cell_type": "code",
   "execution_count": null,
   "metadata": {
    "collapsed": true
   },
   "outputs": [],
   "source": [
    "def nn_accuracy(thetas, X, Y):\n",
    "    theta_1 = thetas[:(L - 1) * (N + 1)].reshape(L - 1, N + 1)\n",
    "    theta_2 = thetas[(L - 1) * (N + 1):].reshape(K, L)\n",
    "    \n",
    "    z_2 = theta_1.dot(X)\n",
    "    a_2 = sigmoid(z_2)\n",
    "    a_2_p = sp.vstack((sp.ones(M), a_2))\n",
    "    a_3 = sigmoid(theta_2.dot(a_2_p))\n",
    "    \n",
    "    return sp.sum((a_3.argmax(axis=0) + 1) == y) / m"
   ]
  }
 ],
 "metadata": {
  "kernelspec": {
   "display_name": "Python 2",
   "language": "python",
   "name": "python2"
  },
  "language_info": {
   "codemirror_mode": {
    "name": "ipython",
    "version": 2
   },
   "file_extension": ".py",
   "mimetype": "text/x-python",
   "name": "python",
   "nbconvert_exporter": "python",
   "pygments_lexer": "ipython2",
   "version": "2.7.6"
  }
 },
 "nbformat": 4,
 "nbformat_minor": 0
}
