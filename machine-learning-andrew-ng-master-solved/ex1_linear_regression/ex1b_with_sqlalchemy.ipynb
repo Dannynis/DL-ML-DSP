{
 "cells": [
  {
   "cell_type": "markdown",
   "metadata": {},
   "source": [
    "# Using SQLAlchemy to store and retrieve data in a postgres database"
   ]
  },
  {
   "cell_type": "code",
   "execution_count": 1,
   "metadata": {
    "collapsed": true
   },
   "outputs": [],
   "source": [
    "from __future__ import division"
   ]
  },
  {
   "cell_type": "code",
   "execution_count": 2,
   "metadata": {
    "collapsed": true
   },
   "outputs": [],
   "source": [
    "import numpy as np\n",
    "from sqlalchemy import create_engine\n",
    "from sqlalchemy.sql import text"
   ]
  },
  {
   "cell_type": "markdown",
   "metadata": {},
   "source": [
    "# 1 Store housing data from ex1b in a database"
   ]
  },
  {
   "cell_type": "markdown",
   "metadata": {},
   "source": [
    "Load the data."
   ]
  },
  {
   "cell_type": "code",
   "execution_count": 3,
   "metadata": {
    "collapsed": false
   },
   "outputs": [],
   "source": [
    "data = np.loadtxt('ex1_orig_octave/ex1data2.txt', delimiter=',')"
   ]
  },
  {
   "cell_type": "markdown",
   "metadata": {},
   "source": [
    "Create a tuple of dictionaries - one dictionary per example in the dataset."
   ]
  },
  {
   "cell_type": "code",
   "execution_count": 4,
   "metadata": {
    "collapsed": true
   },
   "outputs": [],
   "source": [
    "data_as_tuple = tuple([{\n",
    "    'Id': i, \n",
    "    'Size': data[i, 0], \n",
    "    'Bedrooms': data[i, 1],\n",
    "    'Price': data[i, 2]} \n",
    "    for i in xrange(len(data))])"
   ]
  },
  {
   "cell_type": "markdown",
   "metadata": {},
   "source": [
    "Simultaneously create a database called \"ng_ml\" and an SQLAlchemy engine object.  This is the starting point for SQLAlchemy applications.  \n",
    "(See http://docs.sqlalchemy.org/en/latest/core/engines.html.)\n",
    "\n",
    "NOTE:  \n",
    "A PostgreSQL SERVER MUST BE RUNNING LOCALLY ON YOUR MACHINE, AND THE DATABASE \"ng_ml\" MUST EXIST.  \n",
    "TO CREATE THAT DATABASE ON MY MAC OSX LAPTOP FROM THE COMMAND LINE OF A BASH SHELL, I TYPED:\n",
    "\n",
    "```$ createdb -h localhost -p 5432 -U postgres ng_ml```"
   ]
  },
  {
   "cell_type": "code",
   "execution_count": 5,
   "metadata": {
    "collapsed": true
   },
   "outputs": [],
   "source": [
    "eng = create_engine('postgresql:///ng_ml')"
   ]
  },
  {
   "cell_type": "markdown",
   "metadata": {},
   "source": [
    "Connect to the postgres database and create a table containing the data."
   ]
  },
  {
   "cell_type": "code",
   "execution_count": 6,
   "metadata": {
    "collapsed": false
   },
   "outputs": [],
   "source": [
    "with eng.connect() as con:\n",
    "\n",
    "    con.execute(text('DROP TABLE IF EXISTS ex1_housing'))\n",
    "    con.execute(text('''CREATE TABLE ex1_housing(\n",
    "        Id INTEGER PRIMARY KEY, Size FLOAT, Bedrooms FLOAT, Price FLOAT)'''))\n",
    "    \n",
    "    for line in data_as_tuple:\n",
    "        con.execute(text('''INSERT INTO ex1_housing(Id, Size, Bedrooms, Price) \n",
    "            VALUES(:Id, :Size, :Bedrooms, :Price)'''), **line)"
   ]
  },
  {
   "cell_type": "markdown",
   "metadata": {},
   "source": [
    "# 2 Retrieve data"
   ]
  },
  {
   "cell_type": "markdown",
   "metadata": {},
   "source": [
    "Query the ex1_housing table in the ng_ml database."
   ]
  },
  {
   "cell_type": "code",
   "execution_count": 14,
   "metadata": {
    "collapsed": false
   },
   "outputs": [],
   "source": [
    "eng = create_engine('postgresql:///ng_ml')\n",
    "with eng.connect() as con:            \n",
    "    rs = con.execute(text('SELECT * FROM ex1_housing'))            \n",
    "    data = np.array(rs.fetchall())[:, 1:] # drop \"Id\" column from database table."
   ]
  },
  {
   "cell_type": "code",
   "execution_count": 15,
   "metadata": {
    "collapsed": false
   },
   "outputs": [],
   "source": [
    "x0 = data[:, 0] \n",
    "x1 = data[:, 1] \n",
    "y = data[:, -1]\n",
    "\n",
    "M = len(y) "
   ]
  },
  {
   "cell_type": "markdown",
   "metadata": {},
   "source": [
    "From here, we can continue with the analysis in ex1b_multivariate.ipynb."
   ]
  }
 ],
 "metadata": {
  "kernelspec": {
   "display_name": "Python 2",
   "language": "python",
   "name": "python2"
  },
  "language_info": {
   "codemirror_mode": {
    "name": "ipython",
    "version": 2
   },
   "file_extension": ".py",
   "mimetype": "text/x-python",
   "name": "python",
   "nbconvert_exporter": "python",
   "pygments_lexer": "ipython2",
   "version": "2.7.6"
  }
 },
 "nbformat": 4,
 "nbformat_minor": 0
}
